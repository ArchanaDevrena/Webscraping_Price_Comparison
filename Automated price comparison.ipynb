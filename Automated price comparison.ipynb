{
 "cells": [
  {
   "cell_type": "markdown",
   "id": "566bf7e9",
   "metadata": {},
   "source": [
    "# AUTOMATED PRICE COMPARISON AND PRICE TRACKER"
   ]
  },
  {
   "cell_type": "markdown",
   "id": "747fceff",
   "metadata": {},
   "source": [
    "## IMPORTING NECESSARY PACKAGES"
   ]
  },
  {
   "cell_type": "code",
   "execution_count": 2,
   "id": "3a1550f4",
   "metadata": {
    "scrolled": false
   },
   "outputs": [
    {
     "name": "stdout",
     "output_type": "stream",
     "text": [
      "Requirement already satisfied: Flask in c:\\users\\user\\anaconda3\\lib\\site-packages (2.2.2)\n",
      "Requirement already satisfied: Werkzeug>=2.2.2 in c:\\users\\user\\anaconda3\\lib\\site-packages (from Flask) (2.2.3)\n",
      "Requirement already satisfied: Jinja2>=3.0 in c:\\users\\user\\anaconda3\\lib\\site-packages (from Flask) (3.1.2)\n",
      "Requirement already satisfied: itsdangerous>=2.0 in c:\\users\\user\\anaconda3\\lib\\site-packages (from Flask) (2.0.1)\n",
      "Requirement already satisfied: click>=8.0 in c:\\users\\user\\anaconda3\\lib\\site-packages (from Flask) (8.0.4)\n",
      "Requirement already satisfied: colorama in c:\\users\\user\\anaconda3\\lib\\site-packages (from click>=8.0->Flask) (0.4.6)\n",
      "Requirement already satisfied: MarkupSafe>=2.0 in c:\\users\\user\\anaconda3\\lib\\site-packages (from Jinja2>=3.0->Flask) (2.1.1)\n",
      "Note: you may need to restart the kernel to use updated packages.\n"
     ]
    }
   ],
   "source": [
    "pip install Flask\n"
   ]
  },
  {
   "cell_type": "code",
   "execution_count": 3,
   "id": "939cbb6b",
   "metadata": {},
   "outputs": [
    {
     "name": "stdout",
     "output_type": "stream",
     "text": [
      "Requirement already satisfied: schedule in c:\\users\\user\\anaconda3\\lib\\site-packages (1.2.1)\n",
      "Note: you may need to restart the kernel to use updated packages.\n"
     ]
    }
   ],
   "source": [
    "pip install schedule\n"
   ]
  },
  {
   "cell_type": "code",
   "execution_count": 4,
   "id": "f76d4b68",
   "metadata": {},
   "outputs": [
    {
     "name": "stdout",
     "output_type": "stream",
     "text": [
      "Requirement already satisfied: webdriver-manager in c:\\users\\user\\anaconda3\\lib\\site-packages (4.0.2)\n",
      "Requirement already satisfied: requests in c:\\users\\user\\anaconda3\\lib\\site-packages (from webdriver-manager) (2.29.0)\n",
      "Requirement already satisfied: python-dotenv in c:\\users\\user\\anaconda3\\lib\\site-packages (from webdriver-manager) (1.1.1)\n",
      "Requirement already satisfied: packaging in c:\\users\\user\\anaconda3\\lib\\site-packages (from webdriver-manager) (23.0)\n",
      "Requirement already satisfied: charset-normalizer<4,>=2 in c:\\users\\user\\anaconda3\\lib\\site-packages (from requests->webdriver-manager) (2.0.4)\n",
      "Requirement already satisfied: idna<4,>=2.5 in c:\\users\\user\\anaconda3\\lib\\site-packages (from requests->webdriver-manager) (3.10)\n",
      "Collecting urllib3<1.27,>=1.21.1 (from requests->webdriver-manager)\n",
      "  Using cached urllib3-1.26.20-py2.py3-none-any.whl (144 kB)\n",
      "Requirement already satisfied: certifi>=2017.4.17 in c:\\users\\user\\anaconda3\\lib\\site-packages (from requests->webdriver-manager) (2025.6.15)\n",
      "Installing collected packages: urllib3\n",
      "  Attempting uninstall: urllib3\n",
      "    Found existing installation: urllib3 2.4.0\n",
      "    Uninstalling urllib3-2.4.0:\n",
      "      Successfully uninstalled urllib3-2.4.0\n",
      "Successfully installed urllib3-1.26.20\n",
      "Note: you may need to restart the kernel to use updated packages.\n"
     ]
    },
    {
     "name": "stderr",
     "output_type": "stream",
     "text": [
      "ERROR: pip's dependency resolver does not currently take into account all the packages that are installed. This behaviour is the source of the following dependency conflicts.\n",
      "selenium 4.33.0 requires urllib3[socks]~=2.4.0, but you have urllib3 1.26.20 which is incompatible.\n"
     ]
    }
   ],
   "source": [
    "pip install webdriver-manager\n"
   ]
  },
  {
   "cell_type": "code",
   "execution_count": 5,
   "id": "8ec8d4b7",
   "metadata": {},
   "outputs": [
    {
     "name": "stdout",
     "output_type": "stream",
     "text": [
      "Collecting urllib3<3,>=2.4.0\n",
      "  Using cached urllib3-2.5.0-py3-none-any.whl (129 kB)\n",
      "Collecting selenium\n",
      "  Using cached selenium-4.33.0-py3-none-any.whl (9.4 MB)\n",
      "Collecting urllib3[socks]~=2.4.0 (from selenium)\n",
      "  Using cached urllib3-2.4.0-py3-none-any.whl (128 kB)\n",
      "Collecting trio~=0.30.0 (from selenium)\n",
      "  Using cached trio-0.30.0-py3-none-any.whl (499 kB)\n",
      "Collecting trio-websocket~=0.12.2 (from selenium)\n",
      "  Using cached trio_websocket-0.12.2-py3-none-any.whl (21 kB)\n",
      "Collecting certifi>=2025.4.26 (from selenium)\n",
      "  Using cached certifi-2025.6.15-py3-none-any.whl (157 kB)\n",
      "Collecting typing_extensions~=4.13.2 (from selenium)\n",
      "  Using cached typing_extensions-4.13.2-py3-none-any.whl (45 kB)\n",
      "Collecting websocket-client~=1.8.0 (from selenium)\n",
      "  Using cached websocket_client-1.8.0-py3-none-any.whl (58 kB)\n",
      "Collecting attrs>=23.2.0 (from trio~=0.30.0->selenium)\n",
      "  Using cached attrs-25.3.0-py3-none-any.whl (63 kB)\n",
      "Collecting sortedcontainers (from trio~=0.30.0->selenium)\n",
      "  Using cached sortedcontainers-2.4.0-py2.py3-none-any.whl (29 kB)\n",
      "Collecting idna (from trio~=0.30.0->selenium)\n",
      "  Using cached idna-3.10-py3-none-any.whl (70 kB)\n",
      "Collecting outcome (from trio~=0.30.0->selenium)\n",
      "  Using cached outcome-1.3.0.post0-py2.py3-none-any.whl (10 kB)\n",
      "Collecting sniffio>=1.3.0 (from trio~=0.30.0->selenium)\n",
      "  Using cached sniffio-1.3.1-py3-none-any.whl (10 kB)\n",
      "Collecting cffi>=1.14 (from trio~=0.30.0->selenium)\n",
      "  Using cached cffi-1.17.1-cp311-cp311-win_amd64.whl (181 kB)\n",
      "Collecting wsproto>=0.14 (from trio-websocket~=0.12.2->selenium)\n",
      "  Using cached wsproto-1.2.0-py3-none-any.whl (24 kB)\n",
      "Collecting pysocks!=1.5.7,<2.0,>=1.5.6 (from urllib3[socks]~=2.4.0->selenium)\n",
      "  Using cached PySocks-1.7.1-py3-none-any.whl (16 kB)\n",
      "Collecting pycparser (from cffi>=1.14->trio~=0.30.0->selenium)\n",
      "  Using cached pycparser-2.22-py3-none-any.whl (117 kB)\n",
      "Collecting h11<1,>=0.9.0 (from wsproto>=0.14->trio-websocket~=0.12.2->selenium)\n",
      "  Using cached h11-0.16.0-py3-none-any.whl (37 kB)\n",
      "Installing collected packages: sortedcontainers, websocket-client, urllib3, typing_extensions, sniffio, pysocks, pycparser, idna, h11, certifi, attrs, wsproto, outcome, cffi, trio, trio-websocket, selenium\n",
      "  Attempting uninstall: sortedcontainers\n",
      "    Found existing installation: sortedcontainers 2.4.0\n",
      "    Uninstalling sortedcontainers-2.4.0:\n",
      "      Successfully uninstalled sortedcontainers-2.4.0\n",
      "  Attempting uninstall: websocket-client\n",
      "    Found existing installation: websocket-client 1.8.0\n",
      "    Uninstalling websocket-client-1.8.0:\n",
      "      Successfully uninstalled websocket-client-1.8.0\n",
      "  Attempting uninstall: urllib3\n",
      "    Found existing installation: urllib3 1.26.20\n",
      "    Uninstalling urllib3-1.26.20:\n",
      "      Successfully uninstalled urllib3-1.26.20\n",
      "  Attempting uninstall: typing_extensions\n",
      "    Found existing installation: typing_extensions 4.13.2\n",
      "    Uninstalling typing_extensions-4.13.2:\n",
      "      Successfully uninstalled typing_extensions-4.13.2\n",
      "  Attempting uninstall: sniffio\n",
      "    Found existing installation: sniffio 1.3.1\n",
      "    Uninstalling sniffio-1.3.1:\n",
      "      Successfully uninstalled sniffio-1.3.1\n",
      "  Attempting uninstall: pysocks\n",
      "    Found existing installation: PySocks 1.7.1\n",
      "    Uninstalling PySocks-1.7.1:\n",
      "      Successfully uninstalled PySocks-1.7.1\n",
      "  Attempting uninstall: pycparser\n",
      "    Found existing installation: pycparser 2.22\n",
      "    Uninstalling pycparser-2.22:\n",
      "      Successfully uninstalled pycparser-2.22\n",
      "  Attempting uninstall: idna\n",
      "    Found existing installation: idna 3.10\n",
      "    Uninstalling idna-3.10:\n",
      "      Successfully uninstalled idna-3.10\n",
      "  Attempting uninstall: h11\n",
      "    Found existing installation: h11 0.16.0\n",
      "    Uninstalling h11-0.16.0:\n",
      "      Successfully uninstalled h11-0.16.0\n",
      "  Attempting uninstall: certifi\n",
      "    Found existing installation: certifi 2025.6.15\n",
      "    Uninstalling certifi-2025.6.15:\n",
      "      Successfully uninstalled certifi-2025.6.15\n",
      "  Attempting uninstall: attrs\n",
      "    Found existing installation: attrs 25.3.0\n",
      "    Uninstalling attrs-25.3.0:\n",
      "      Successfully uninstalled attrs-25.3.0\n",
      "  Attempting uninstall: wsproto\n",
      "    Found existing installation: wsproto 1.2.0\n",
      "    Uninstalling wsproto-1.2.0:\n",
      "      Successfully uninstalled wsproto-1.2.0\n",
      "  Attempting uninstall: outcome\n",
      "    Found existing installation: outcome 1.3.0.post0\n",
      "    Uninstalling outcome-1.3.0.post0:\n",
      "      Successfully uninstalled outcome-1.3.0.post0\n",
      "  Attempting uninstall: cffi\n",
      "    Found existing installation: cffi 1.17.1\n",
      "    Uninstalling cffi-1.17.1:\n",
      "      Successfully uninstalled cffi-1.17.1\n"
     ]
    },
    {
     "name": "stderr",
     "output_type": "stream",
     "text": [
      "ERROR: Could not install packages due to an OSError: [WinError 5] Access is denied: 'C:\\\\Users\\\\user\\\\AppData\\\\Local\\\\Temp\\\\pip-uninstall-thq598yk\\\\_cffi_backend.cp311-win_amd64.pyd'\n",
      "Consider using the `--user` option or check the permissions.\n",
      "\n"
     ]
    }
   ],
   "source": [
    "!pip install --upgrade --force-reinstall \"urllib3>=2.4.0,<3\" selenium"
   ]
  },
  {
   "cell_type": "code",
   "execution_count": 6,
   "id": "7fbe56cc",
   "metadata": {},
   "outputs": [],
   "source": [
    "import warnings\n",
    "warnings.filterwarnings(\"ignore\")\n"
   ]
  },
  {
   "cell_type": "code",
   "execution_count": 7,
   "id": "c9a4ccb8",
   "metadata": {},
   "outputs": [],
   "source": [
    "import time\n",
    "import schedule\n",
    "import smtplib\n",
    "from email.mime.multipart import MIMEMultipart\n",
    "from email.mime.text import MIMEText\n",
    "from flask import Flask, render_template, request"
   ]
  },
  {
   "cell_type": "code",
   "execution_count": 8,
   "id": "545775e0",
   "metadata": {},
   "outputs": [],
   "source": [
    "# Web Scraping\n",
    "from selenium import webdriver\n",
    "from selenium.common.exceptions import *\n",
    "# Data manipulation\n",
    "import pandas as pd\n",
    "from selenium.webdriver.common.keys import Keys\n",
    "from flask import Flask, render_template\n",
    "import pandas as pd"
   ]
  },
  {
   "cell_type": "code",
   "execution_count": 9,
   "id": "7a62f672",
   "metadata": {},
   "outputs": [],
   "source": [
    "options = webdriver.ChromeOptions()\n",
    "options.add_argument(\"--log-level=3\")  # 0 = ALL, 3 = ERROR\n"
   ]
  },
  {
   "cell_type": "markdown",
   "id": "a2fd7853",
   "metadata": {},
   "source": [
    "## Automating Browsers"
   ]
  },
  {
   "cell_type": "code",
   "execution_count": 10,
   "id": "2b2a271d",
   "metadata": {},
   "outputs": [],
   "source": [
    "from selenium import webdriver\n",
    "from selenium.webdriver.chrome.service import Service\n",
    "from webdriver_manager.chrome import ChromeDriverManager\n",
    "\n",
    "flip_url = 'https://www.flipkart.com/'\n",
    "amazon_url = 'https://www.amazon.in/'\n",
    "\n",
    "options = webdriver.ChromeOptions()\n",
    "options.add_argument('start-maximized')\n",
    "options.add_argument('disable-infobars')\n",
    "options.add_argument('--disable-extensions')\n",
    "\n",
    "# Automatically uses correct version of ChromeDriver for your Chrome version\n",
    "service = Service(ChromeDriverManager().install())\n",
    "\n",
    "browserf = webdriver.Chrome(service=service, options=options)\n",
    "browserf.get(flip_url)\n",
    "\n",
    "browsera = webdriver.Chrome(service=service, options=options)\n",
    "browsera.get(amazon_url)\n"
   ]
  },
  {
   "cell_type": "code",
   "execution_count": 11,
   "id": "5dbbb3c0",
   "metadata": {},
   "outputs": [],
   "source": [
    "from selenium.webdriver.support.ui import WebDriverWait\n",
    "from selenium.webdriver.support import expected_conditions as EC\n",
    "from selenium.webdriver.common.by import By\n",
    "\n",
    "# Wait until the search bar is present\n",
    "search_barf = WebDriverWait(browserf, 10).until(\n",
    "    EC.presence_of_element_located((By.CLASS_NAME, '_2SmNnR'))\n",
    ")\n",
    "\n",
    "# Wait until the search bar is clickable\n",
    "try:\n",
    "    search_bara = WebDriverWait(browsera, 10).until(EC.element_to_be_clickable((By.ID, 'twotabsearchtextbox')))\n",
    "except e:\n",
    "    print(\"Exception\")"
   ]
  },
  {
   "cell_type": "code",
   "execution_count": 12,
   "id": "cf1bdc90",
   "metadata": {},
   "outputs": [],
   "source": [
    "search_barf = WebDriverWait(browserf, 10).until(\n",
    "    EC.element_to_be_clickable((By.CLASS_NAME, '_2SmNnR'))\n",
    ")\n"
   ]
  },
  {
   "cell_type": "code",
   "execution_count": 13,
   "id": "273d22a4",
   "metadata": {},
   "outputs": [],
   "source": [
    "# Scroll to the element\n",
    "browsera.execute_script(\"arguments[0].scrollIntoView();\", search_bara)\n"
   ]
  },
  {
   "cell_type": "code",
   "execution_count": 14,
   "id": "b85db243",
   "metadata": {},
   "outputs": [],
   "source": [
    "# Scroll to the element\n",
    "browserf.execute_script(\"arguments[0].scrollIntoView();\", search_barf)\n"
   ]
  },
  {
   "cell_type": "code",
   "execution_count": 15,
   "id": "5890b795",
   "metadata": {},
   "outputs": [],
   "source": [
    "browsera.execute_script(\"arguments[0].scrollIntoView(true);\", search_bara)\n"
   ]
  },
  {
   "cell_type": "code",
   "execution_count": 16,
   "id": "f5f9f4db",
   "metadata": {},
   "outputs": [],
   "source": [
    "from selenium.webdriver.common.by import By\n",
    "from selenium.webdriver.support.ui import WebDriverWait\n",
    "from selenium.webdriver.support import expected_conditions as EC\n",
    "\n",
    "frame_name_or_id = 'frame_name_or_id'"
   ]
  },
  {
   "cell_type": "code",
   "execution_count": 17,
   "id": "ac31b9d3",
   "metadata": {},
   "outputs": [],
   "source": [
    "import smtplib\n",
    "from email.mime.multipart import MIMEMultipart\n",
    "from email.mime.text import MIMEText\n",
    "from flask import Flask, render_template, request\n",
    "import pandas as pd"
   ]
  },
  {
   "cell_type": "markdown",
   "id": "e1cfed72",
   "metadata": {},
   "source": [
    "## WEB FRAMEWORK"
   ]
  },
  {
   "cell_type": "code",
   "execution_count": 18,
   "id": "e1e5e89f",
   "metadata": {},
   "outputs": [
    {
     "name": "stdout",
     "output_type": "stream",
     "text": [
      " * Serving Flask app '__main__'\n",
      " * Debug mode: off\n"
     ]
    },
    {
     "name": "stderr",
     "output_type": "stream",
     "text": [
      "WARNING: This is a development server. Do not use it in a production deployment. Use a production WSGI server instead.\n",
      " * Running on http://127.0.0.1:5000\n",
      "Press CTRL+C to quit\n",
      "127.0.0.1 - - [29/Jun/2025 10:29:41] \"GET / HTTP/1.1\" 200 -\n",
      "127.0.0.1 - - [29/Jun/2025 10:29:52] \"POST / HTTP/1.1\" 200 -\n"
     ]
    }
   ],
   "source": [
    "\n",
    "app = Flask(__name__)\n",
    "merged_df = None\n",
    "expected_percentage_drop = None\n",
    "email = None\n",
    "\n",
    "@app.route('/', methods=['GET', 'POST'])\n",
    "def display_merged_df():\n",
    "    if request.method == 'POST':\n",
    "        search_query = request.form.get('search_query')\n",
    "        if search_query:\n",
    "            merged_df = scrape_data(search_query)\n",
    "            if merged_df is not None:\n",
    "                \n",
    "                    html_table = merged_df.to_html(index=False)\n",
    "                    return render_template('index.html', html_table=html_table)\n",
    "\n",
    "            else:\n",
    "                return \"Error: Unable to fetch data. Please try again later.\"\n",
    "    return render_template('index.html')\n",
    "\n",
    "\n",
    "def scrape_data(search_query):\n",
    "    \n",
    "     # Wait for the search bar to be clickable\n",
    "        search_barf = WebDriverWait(browserf, 10).until(EC.element_to_be_clickable((By.NAME, \"q\")))\n",
    "            # Clear any existing text in the search bar\n",
    "        search_barf.clear()\n",
    "        search_barf.send_keys(search_query)\n",
    "        search_barf.send_keys(Keys.RETURN)\n",
    "        try:         \n",
    "            WebDriverWait(browserf, 10).until(EC.title_contains(search_query))\n",
    "\n",
    "        except ZeroDivisionError:\n",
    "            # Wait for the search results page to load\n",
    "            print(\"Exception\")\n",
    "        else:\n",
    "            search_bara = WebDriverWait(browsera, 20).until(EC.element_to_be_clickable((By.ID, 'twotabsearchtextbox')))\n",
    "             \n",
    "            \n",
    "        finally:       \n",
    "            # Wait for the search bar to be clickable\n",
    "            search_bara = WebDriverWait(browsera, 10).until(EC.element_to_be_clickable((By.ID, 'twotabsearchtextbox')))\n",
    "            # Clear any existing text in the search bar\n",
    "                \n",
    "         \n",
    "        \n",
    "       \n",
    "            search_bara.clear()\n",
    "\n",
    "            search_bara.send_keys(search_query)\n",
    "\n",
    "            search_bara.send_keys(Keys.RETURN)\n",
    "\n",
    "            WebDriverWait(browsera, 10).until(EC.title_contains(search_query))\n",
    "           \n",
    "            \n",
    "            #test code\n",
    "            # Flipkart scraping\n",
    "            item_titles = browserf.find_elements(By.CSS_SELECTOR, \"div.KzDlHZ\")\n",
    "            item_prices = browserf.find_elements(By.CSS_SELECTOR, \"div.Nx9bqj._4b5DiR\")\n",
    "\n",
    "            titles_list = [title.text for title in item_titles]\n",
    "            prices_list = [price.text.replace('₹', '').replace(',', '') for price in item_prices]\n",
    "\n",
    "            min_len = min(len(titles_list), len(prices_list))\n",
    "            flip = pd.DataFrame({\n",
    "             'ItemName': titles_list[:min_len],\n",
    "             'Price': prices_list[:min_len]\n",
    "             })\n",
    "            flip.to_csv('flipkart_data.csv', index=False)\n",
    "\n",
    "            # Amazon scraping\n",
    "            item_titles = browsera.find_elements(By.CSS_SELECTOR, \"h2.a-size-medium.a-spacing-none.a-color-base.a-text-normal\")\n",
    "            price_elements = browsera.find_elements(By.CSS_SELECTOR, \"span.a-price\")\n",
    "\n",
    "            titles_list = [title.text for title in item_titles]\n",
    "            # prices_list = [price.text.replace(',', '') for price in price_elements]\n",
    "            prices_list = [p.text.strip().replace(\"₹\", \"\").replace(\",\", \"\") for p in price_elements]\n",
    "\n",
    "            min_len = min(len(titles_list), len(prices_list))\n",
    "            ama = pd.DataFrame({\n",
    "             'ItemName': titles_list[:min_len],\n",
    "               'Price': prices_list[:min_len]\n",
    "              })\n",
    "            ama.to_csv('zonama_data.csv', index=False)\n",
    "\n",
    "            # Convert Price to numeric\n",
    "            ama['Price'] = pd.to_numeric(ama['Price'], errors='coerce')\n",
    "            flip['Price'] = pd.to_numeric(flip['Price'], errors='coerce')\n",
    "\n",
    "           # Sort and merge (if comparing by price only)\n",
    "            amazon_df = ama.sort_values(by='Price')\n",
    "            flipkart_df = flip.sort_values(by='Price')\n",
    "\n",
    "            merged_df = pd.concat([amazon_df.rename(columns={'ItemName': 'Amazon Product', 'Price': 'Amazon Price'}),\n",
    "                       flipkart_df.rename(columns={'ItemName': 'Flipkart Product', 'Price': 'Flipkart Price'})],\n",
    "                      axis=1)\n",
    "\n",
    "            merged_df.to_csv('New_Merge.csv', index=False)\n",
    "            return merged_df\n",
    "\n",
    "            #End of test code\n",
    "            \n",
    "# Function to send email notification\n",
    "def send_email(receiver_email, subject, body):\n",
    "    sender_email = \"your_email@gmail.com\"  \n",
    "    password = \"your_password\"  \n",
    "\n",
    "    msg = MIMEMultipart()\n",
    "    msg['From'] = sender_email\n",
    "    msg['To'] = receiver_email\n",
    "    msg['Subject'] = subject\n",
    "    ###content\n",
    "    # Email body content\n",
    "    body_content = f\"\"\"\n",
    "    Dear User,\n",
    "    \n",
    "    We wanted to notify you that the price of the electronical product you were interested in has dropped.\n",
    "    \n",
    "    This is a substantial price drop, and it's a great opportunity to purchase the product at a lower price.\n",
    "    If you're still interested, you may want to take advantage of this offer before prices change again.\n",
    "    \n",
    "    Thank you for using our price drop notification service.\n",
    "    \n",
    "    Best regards,\n",
    "    ARCHANA E\n",
    "    \"\"\"\n",
    "    #####/content\n",
    "    msg.attach(MIMEText(body, 'plain'))\n",
    "\n",
    "    server = smtplib.SMTP('smtp.gmail.com', 587)\n",
    "    server.starttls()\n",
    "    server.login(sender_email, password)\n",
    "    text = msg.as_string()\n",
    "    server.sendmail(sender_email, receiver_email, text)\n",
    "    server.quit()\n",
    "@app.route('/future_price_drop', methods=['POST'])\n",
    "# Function to check for price drops\n",
    "def check_price_drops():\n",
    "    global merged_df, expected_percentage_drop, email\n",
    "    if merged_df is not None and expected_percentage_drop is not None and email is not None:\n",
    "        # Calculate price drop percentage for each product\n",
    "        merged_df['Price'] = merged_df['Price'].astype(float)\n",
    "        merged_df['Previous_Price'] = merged_df['Previous_Price'].astype(float)\n",
    "        merged_df['Price_Drop_Percentage'] = ((merged_df['Previous_Price'] - merged_df['Price']) / merged_df['Previous_Price']) * 100\n",
    "        \n",
    "        # Filter products where the price drop meets or exceeds the expected percentage\n",
    "        products_to_notify = merged_df[merged_df['Price_Drop_Percentage'] >= expected_percentage_drop]\n",
    "        \n",
    "        if not products_to_notify.empty:\n",
    "            # Send email notification\n",
    "            subject = \"Price Drop Alert\"\n",
    "            body = \"The following products have dropped in price as you expected:\\n\\n\" + str(products_to_notify)\n",
    "            send_email(email, subject, body)\n",
    "\n",
    "@app.route('/get_user_input', methods=['POST'])\n",
    "def get_user_input():\n",
    "    global expected_percentage_drop, email\n",
    "    expected_percentage_drop = float(request.form.get('expected_percentage_drop'))\n",
    "    email = request.form.get('email')\n",
    "    return \"Input received successfully. You will be notified via email if the price drops.\"\n",
    "\n",
    "#flask\n",
    "if __name__ == '__main__':\n",
    "    # Schedule job to check for price drops every 3 days\n",
    "    schedule.every(3).days.do(check_price_drops)\n",
    "\n",
    "    app.run(debug=False)\n",
    "            \n",
    "        \n",
    "\n",
    "\n",
    " \n",
    "\n",
    "\n",
    "\n",
    "\n",
    "  \n",
    "    \n",
    "\n",
    "\n",
    "\n",
    " \n",
    "    "
   ]
  },
  {
   "cell_type": "code",
   "execution_count": null,
   "id": "5ebf7395",
   "metadata": {},
   "outputs": [],
   "source": []
  },
  {
   "cell_type": "code",
   "execution_count": null,
   "id": "8918a42e",
   "metadata": {},
   "outputs": [],
   "source": []
  }
 ],
 "metadata": {
  "kernelspec": {
   "display_name": "Python 3 (ipykernel)",
   "language": "python",
   "name": "python3"
  },
  "language_info": {
   "codemirror_mode": {
    "name": "ipython",
    "version": 3
   },
   "file_extension": ".py",
   "mimetype": "text/x-python",
   "name": "python",
   "nbconvert_exporter": "python",
   "pygments_lexer": "ipython3",
   "version": "3.11.3"
  }
 },
 "nbformat": 4,
 "nbformat_minor": 5
}
